{
  "nbformat": 4,
  "nbformat_minor": 0,
  "metadata": {
    "colab": {
      "provenance": []
    },
    "kernelspec": {
      "name": "python3",
      "display_name": "Python 3"
    },
    "language_info": {
      "name": "python"
    }
  },
  "cells": [
    {
      "cell_type": "code",
      "execution_count": 1,
      "metadata": {
        "id": "OU_V3Z6jeisi"
      },
      "outputs": [],
      "source": [
        "import pandas as pd\n",
        "import geopandas as gpd\n",
        "import math"
      ]
    },
    {
      "cell_type": "code",
      "source": [
        "input_file = \"/content/MINISTRY OF COLLECTIVITY - Sheet1.csv\" # @param {\"type\":\"string\"}\n",
        "data=pd.read_csv(input_file)"
      ],
      "metadata": {
        "id": "JGhhLo9AerbG"
      },
      "execution_count": 2,
      "outputs": []
    },
    {
      "cell_type": "code",
      "source": [
        "data_geospatial=data.dropna(axis=0,subset=data.columns[2]).reset_index()"
      ],
      "metadata": {
        "id": "l3rfItg6jIUm"
      },
      "execution_count": 8,
      "outputs": []
    },
    {
      "cell_type": "code",
      "source": [
        "data_geospatial[['latitude','longitude']]=data_geospatial[data_geospatial.columns[3]].str.split(',',expand=True).dropna().astype(float)"
      ],
      "metadata": {
        "id": "pziz_4HNkDYp"
      },
      "execution_count": 12,
      "outputs": []
    },
    {
      "cell_type": "code",
      "source": [
        "gdf = gpd.GeoDataFrame(\n",
        "    data_geospatial, geometry=gpd.points_from_xy(data_geospatial.longitude, data_geospatial.latitude), crs=\"EPSG:4326\"\n",
        ")"
      ],
      "metadata": {
        "id": "9hNnyYk6mBmx"
      },
      "execution_count": 13,
      "outputs": []
    },
    {
      "cell_type": "code",
      "source": [
        "gdf.plot()"
      ],
      "metadata": {
        "colab": {
          "base_uri": "https://localhost:8080/",
          "height": 447
        },
        "id": "oZcQQfGSm_-z",
        "outputId": "a36f60a5-c5a9-432a-9e7a-8b28af48dd92"
      },
      "execution_count": 14,
      "outputs": [
        {
          "output_type": "execute_result",
          "data": {
            "text/plain": [
              "<Axes: >"
            ]
          },
          "metadata": {},
          "execution_count": 14
        },
        {
          "output_type": "display_data",
          "data": {
            "text/plain": [
              "<Figure size 640x480 with 1 Axes>"
            ],
            "image/png": "[encoded data removed]"
          },
          "metadata": {}
        }
      ]
    },
    {
      "cell_type": "code",
      "source": [
        "gdf.to_file(\"output.geojson\", driver='GeoJSON')"
      ],
      "metadata": {
        "id": "JiYKZeQJoND9"
      },
      "execution_count": 15,
      "outputs": []
    },
    {
      "cell_type": "code",
      "source": [],
      "metadata": {
        "id": "5M5iCTB1ruMd"
      },
      "execution_count": null,
      "outputs": []
    }
  ]
}